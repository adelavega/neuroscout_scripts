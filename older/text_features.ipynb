{
 "cells": [
  {
   "cell_type": "code",
   "execution_count": 2,
   "metadata": {
    "collapsed": true
   },
   "outputs": [],
   "source": [
    "import pandas as pd\n",
    "from glob import glob\n",
    "from os import path"
   ]
  },
  {
   "cell_type": "code",
   "execution_count": 30,
   "metadata": {
    "collapsed": false
   },
   "outputs": [],
   "source": [
    "all_dfs = []\n",
    "for i, f in enumerate(glob(file_path + \"text*\")):\n",
    "    df = pd.read_csv(f)\n",
    "    df = df[['onset', 'PredefinedDictionaryExtractor', 'PredefinedDictionaryExtractor.1']].drop(0)\n",
    "    df.columns = ['onset', 'long_frequency', 'concreteness']\n",
    "    df['run'] = i\n",
    "    all_dfs.append(df)\n",
    "all_dfs = pd.concat(all_dfs)\n",
    "\n",
    "\n",
    "def standardize(x):\n",
    "    return (x - x.mean()) / x.std()\n",
    "\n",
    "all_dfs['long_frequency'] = standardize(all_dfs.long_frequency.astype('float'))\n",
    "all_dfs['concreteness'] = standardize(all_dfs.concreteness.astype('float'))\n",
    "all_dfs = all_dfs.fillna(0)\n",
    "\n",
    "for i, df in all_dfs.groupby('run'):\n",
    "    print(df[['onset', 'long_frequency', 'concreteness']])"
   ]
  },
  {
   "cell_type": "code",
   "execution_count": null,
   "metadata": {
    "collapsed": true
   },
   "outputs": [],
   "source": []
  }
 ],
 "metadata": {
  "anaconda-cloud": {},
  "kernelspec": {
   "display_name": "Python [conda root]",
   "language": "python",
   "name": "conda-root-py"
  },
  "language_info": {
   "codemirror_mode": {
    "name": "ipython",
    "version": 3
   },
   "file_extension": ".py",
   "mimetype": "text/x-python",
   "name": "python",
   "nbconvert_exporter": "python",
   "pygments_lexer": "ipython3",
   "version": "3.5.2"
  }
 },
 "nbformat": 4,
 "nbformat_minor": 1
}
