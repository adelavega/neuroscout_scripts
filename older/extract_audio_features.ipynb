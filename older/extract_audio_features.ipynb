{
 "cells": [
  {
   "cell_type": "code",
   "execution_count": 1,
   "metadata": {
    "collapsed": false
   },
   "outputs": [],
   "source": [
    "from pliers.stimuli import VideoStim, AudioStim\n",
    "from pliers.converters import IBMSpeechAPIConverter, VideoToAudioConverter, WitTranscriptionConverter\n",
    "from pliers.extractors import PredefinedDictionaryExtractor, merge_results, STFTAudioExtractor\n",
    "from pliers.graph import Graph\n",
    "from pliers import config\n",
    "config.cache_transformers = False\n",
    "import os\n",
    "from moviepy.audio.io.AudioFileClip import AudioFileClip\n",
    "import numpy as np\n",
    "import matplotlib.pyplot as plt\n",
    "from traceback import format_exc\n",
    "from glob import glob\n",
    "import pickle\n",
    "%matplotlib inline"
   ]
  },
  {
   "cell_type": "code",
   "execution_count": 3,
   "metadata": {
    "collapsed": true
   },
   "outputs": [],
   "source": [
    "os.environ['IBM_USERNAME'] = \"c7c08d05-f40b-433e-83a2-f9754094a4d6\"\n",
    "os.environ['IBM_PASSWORD'] = \"Qw78vA2ebHkg\"\n",
    "video_path = \"D:neuroscout/datasets/hcp/movie_stimulus/Post_20140821_version/*.mp4\""
   ]
  },
  {
   "cell_type": "code",
   "execution_count": 8,
   "metadata": {
    "collapsed": true
   },
   "outputs": [
    {
     "name": "stdout",
     "output_type": "stream",
     "text": [
      "[MoviePy] Writing audio in D:neuroscout/datasets/hcp/movie_stimulus/Post_20140821_version\\7T_MOVIE1_CC1_v2.wav\n"
     ]
    },
    {
     "name": "stderr",
     "output_type": "stream",
     "text": [
      "100%|██████████████████████████████████████████████████████████████████████████| 20309/20309 [00:16<00:00, 1259.44it/s]\n"
     ]
    },
    {
     "name": "stdout",
     "output_type": "stream",
     "text": [
      "[MoviePy] Done.\n",
      "[MoviePy] Writing audio in scratch/7T_MOVIE1_CC1_v2_1.wav\n"
     ]
    },
    {
     "name": "stderr",
     "output_type": "stream",
     "text": [
      "100%|████████████████████████████████████████████████████████████████████████████| 6615/6615 [00:04<00:00, 1390.28it/s]\n"
     ]
    },
    {
     "name": "stdout",
     "output_type": "stream",
     "text": [
      "[MoviePy] Done.\n",
      "[MoviePy] Writing audio in scratch/7T_MOVIE1_CC1_v2_2.wav\n"
     ]
    },
    {
     "name": "stderr",
     "output_type": "stream",
     "text": [
      "100%|████████████████████████████████████████████████████████████████████████████| 6615/6615 [00:04<00:00, 1384.45it/s]\n"
     ]
    },
    {
     "name": "stdout",
     "output_type": "stream",
     "text": [
      "[MoviePy] Done.\n",
      "[MoviePy] Writing audio in scratch/7T_MOVIE1_CC1_v2_3.wav\n"
     ]
    },
    {
     "name": "stderr",
     "output_type": "stream",
     "text": [
      "100%|████████████████████████████████████████████████████████████████████████████| 7079/7079 [00:05<00:00, 1375.62it/s]\n"
     ]
    },
    {
     "name": "stdout",
     "output_type": "stream",
     "text": [
      "[MoviePy] Done.\n",
      "[MoviePy] Writing audio in D:neuroscout/datasets/hcp/movie_stimulus/Post_20140821_version\\7T_MOVIE2_HO1_v2.wav\n"
     ]
    },
    {
     "name": "stderr",
     "output_type": "stream",
     "text": [
      "100%|██████████████████████████████████████████████████████████████████████████| 20242/20242 [00:19<00:00, 1051.58it/s]\n"
     ]
    },
    {
     "name": "stdout",
     "output_type": "stream",
     "text": [
      "[MoviePy] Done.\n",
      "[MoviePy] Writing audio in scratch/7T_MOVIE2_HO1_v2_1.wav\n"
     ]
    },
    {
     "name": "stderr",
     "output_type": "stream",
     "text": [
      "100%|████████████████████████████████████████████████████████████████████████████| 6615/6615 [00:04<00:00, 1383.29it/s]\n"
     ]
    },
    {
     "name": "stdout",
     "output_type": "stream",
     "text": [
      "[MoviePy] Done.\n",
      "[MoviePy] Writing audio in scratch/7T_MOVIE2_HO1_v2_2.wav\n"
     ]
    },
    {
     "name": "stderr",
     "output_type": "stream",
     "text": [
      "100%|████████████████████████████████████████████████████████████████████████████| 6615/6615 [00:04<00:00, 1390.86it/s]\n"
     ]
    },
    {
     "name": "stdout",
     "output_type": "stream",
     "text": [
      "[MoviePy] Done.\n",
      "[MoviePy] Writing audio in scratch/7T_MOVIE2_HO1_v2_3.wav\n"
     ]
    },
    {
     "name": "stderr",
     "output_type": "stream",
     "text": [
      "100%|████████████████████████████████████████████████████████████████████████████| 7012/7012 [00:04<00:00, 1414.53it/s]\n"
     ]
    },
    {
     "name": "stdout",
     "output_type": "stream",
     "text": [
      "[MoviePy] Done.\n",
      "[MoviePy] Writing audio in D:neuroscout/datasets/hcp/movie_stimulus/Post_20140821_version\\7T_MOVIE3_CC2_v2.wav\n"
     ]
    },
    {
     "name": "stderr",
     "output_type": "stream",
     "text": [
      "100%|███████████████████████████████████████████████████████████████████████████| 20176/20176 [00:20<00:00, 981.00it/s]\n"
     ]
    },
    {
     "name": "stdout",
     "output_type": "stream",
     "text": [
      "[MoviePy] Done.\n",
      "[MoviePy] Writing audio in scratch/7T_MOVIE3_CC2_v2_1.wav\n"
     ]
    },
    {
     "name": "stderr",
     "output_type": "stream",
     "text": [
      "100%|████████████████████████████████████████████████████████████████████████████| 6615/6615 [00:04<00:00, 1404.45it/s]\n"
     ]
    },
    {
     "name": "stdout",
     "output_type": "stream",
     "text": [
      "[MoviePy] Done.\n",
      "[MoviePy] Writing audio in scratch/7T_MOVIE3_CC2_v2_2.wav\n"
     ]
    },
    {
     "name": "stderr",
     "output_type": "stream",
     "text": [
      "100%|████████████████████████████████████████████████████████████████████████████| 6615/6615 [00:04<00:00, 1414.95it/s]\n"
     ]
    },
    {
     "name": "stdout",
     "output_type": "stream",
     "text": [
      "[MoviePy] Done.\n",
      "[MoviePy] Writing audio in scratch/7T_MOVIE3_CC2_v2_3.wav\n"
     ]
    },
    {
     "name": "stderr",
     "output_type": "stream",
     "text": [
      "100%|████████████████████████████████████████████████████████████████████████████| 6946/6946 [00:04<00:00, 1408.91it/s]\n"
     ]
    },
    {
     "name": "stdout",
     "output_type": "stream",
     "text": [
      "[MoviePy] Done.\n",
      "[MoviePy] Writing audio in D:neuroscout/datasets/hcp/movie_stimulus/Post_20140821_version\\7T_MOVIE4_HO2_v2.wav\n"
     ]
    },
    {
     "name": "stderr",
     "output_type": "stream",
     "text": [
      "100%|██████████████████████████████████████████████████████████████████████████| 19868/19868 [00:18<00:00, 1074.69it/s]\n"
     ]
    },
    {
     "name": "stdout",
     "output_type": "stream",
     "text": [
      "[MoviePy] Done.\n",
      "[MoviePy] Writing audio in scratch/7T_MOVIE4_HO2_v2_1.wav\n"
     ]
    },
    {
     "name": "stderr",
     "output_type": "stream",
     "text": [
      "100%|████████████████████████████████████████████████████████████████████████████| 6615/6615 [00:04<00:00, 1411.93it/s]\n"
     ]
    },
    {
     "name": "stdout",
     "output_type": "stream",
     "text": [
      "[MoviePy] Done.\n",
      "[MoviePy] Writing audio in scratch/7T_MOVIE4_HO2_v2_2.wav\n"
     ]
    },
    {
     "name": "stderr",
     "output_type": "stream",
     "text": [
      "100%|████████████████████████████████████████████████████████████████████████████| 6615/6615 [00:04<00:00, 1415.25it/s]\n"
     ]
    },
    {
     "name": "stdout",
     "output_type": "stream",
     "text": [
      "[MoviePy] Done.\n",
      "[MoviePy] Writing audio in scratch/7T_MOVIE4_HO2_v2_3.wav\n"
     ]
    },
    {
     "name": "stderr",
     "output_type": "stream",
     "text": [
      "100%|████████████████████████████████████████████████████████████████████████████| 6638/6638 [00:04<00:00, 1414.73it/s]\n"
     ]
    },
    {
     "name": "stdout",
     "output_type": "stream",
     "text": [
      "[MoviePy] Done.\n"
     ]
    }
   ],
   "source": [
    "# Extract audio track from each video, and split it in three segments\n",
    "conv = VideoToAudioConverter()\n",
    "videos = glob(video_path)\n",
    "for v in videos:\n",
    "    video = VideoStim(v)\n",
    "    name = os.path.basename(v).split('.')[0]\n",
    "    audio = conv.transform(video)\n",
    "    for i, sc in enumerate([(0, 300), (300, 600), (600, int(audio.duration))]):\n",
    "        subclip = audio.clip.subclip(*sc)\n",
    "        subclip.write_audiofile('scratch/%s_%d.wav' % (name, i+1))"
   ]
  },
  {
   "cell_type": "code",
   "execution_count": 4,
   "metadata": {
    "collapsed": false
   },
   "outputs": [
    {
     "name": "stdout",
     "output_type": "stream",
     "text": [
      "scratch\\7T_MOVIE1_CC1_v2_1.wav segment 0\n",
      "Transforming...\n",
      "Traceback (most recent call last):\n",
      "  File \"<ipython-input-4-23104510e5b2>\", line 10, in <module>\n",
      "    cts = conv.transform(audio)\n",
      "  File \"C:\\Users\\aid338\\AppData\\Roaming\\Python\\Python35\\site-packages\\pliers\\transformers.py\", line 49, in wrapper\n",
      "    result = transform(self, stim, *args, **kwargs)\n",
      "  File \"C:\\Users\\aid338\\AppData\\Roaming\\Python\\Python35\\site-packages\\pliers\\transformers.py\", line 87, in transform\n",
      "    result = self._transform(validated_stim, *args, **kwargs)\n",
      "  File \"C:\\Users\\aid338\\AppData\\Roaming\\Python\\Python35\\site-packages\\pliers\\converters\\base.py\", line 25, in _transform\n",
      "    return self._convert(stim, *args, **kwargs)\n",
      "  File \"C:\\Users\\aid338\\AppData\\Roaming\\Python\\Python35\\site-packages\\pliers\\converters\\api.py\", line 95, in _convert\n",
      "    timestamps = result['results'][0]['alternatives'][0]['timestamps']\n",
      "KeyError: 'results'\n",
      "\n",
      "scratch\\7T_MOVIE1_CC1_v2_2.wav segment 1\n",
      "Transforming...\n",
      "scratch\\7T_MOVIE1_CC1_v2_3.wav segment 2\n",
      "Transforming...\n",
      "scratch\\7T_MOVIE2_HO1_v2_1.wav segment 0\n",
      "Transforming...\n",
      "scratch\\7T_MOVIE2_HO1_v2_2.wav segment 1\n",
      "Transforming...\n",
      "scratch\\7T_MOVIE2_HO1_v2_3.wav segment 2\n",
      "Transforming...\n",
      "scratch\\7T_MOVIE3_CC2_v2_1.wav segment 0\n",
      "Transforming...\n",
      "scratch\\7T_MOVIE3_CC2_v2_2.wav segment 1\n",
      "Transforming...\n",
      "scratch\\7T_MOVIE3_CC2_v2_3.wav segment 2\n",
      "Transforming...\n",
      "Traceback (most recent call last):\n",
      "  File \"C:\\Users\\aid338\\AppData\\Roaming\\Python\\Python35\\site-packages\\pliers\\converters\\api.py\", line 127, in _query_api\n",
      "    response = urlopen(request, timeout=None)\n",
      "  File \"C:\\Program Files\\Anaconda3\\lib\\urllib\\request.py\", line 163, in urlopen\n",
      "    return opener.open(url, data, timeout)\n",
      "  File \"C:\\Program Files\\Anaconda3\\lib\\urllib\\request.py\", line 472, in open\n",
      "    response = meth(req, response)\n",
      "  File \"C:\\Program Files\\Anaconda3\\lib\\urllib\\request.py\", line 582, in http_response\n",
      "    'http', request, response, code, msg, hdrs)\n",
      "  File \"C:\\Program Files\\Anaconda3\\lib\\urllib\\request.py\", line 510, in error\n",
      "    return self._call_chain(*args)\n",
      "  File \"C:\\Program Files\\Anaconda3\\lib\\urllib\\request.py\", line 444, in _call_chain\n",
      "    result = func(*args)\n",
      "  File \"C:\\Program Files\\Anaconda3\\lib\\urllib\\request.py\", line 590, in http_error_default\n",
      "    raise HTTPError(req.full_url, code, msg, hdrs, fp)\n",
      "urllib.error.HTTPError: HTTP Error 400: Bad Request\n",
      "\n",
      "During handling of the above exception, another exception occurred:\n",
      "\n",
      "Traceback (most recent call last):\n",
      "  File \"<ipython-input-4-23104510e5b2>\", line 10, in <module>\n",
      "    cts = conv.transform(audio)\n",
      "  File \"C:\\Users\\aid338\\AppData\\Roaming\\Python\\Python35\\site-packages\\pliers\\transformers.py\", line 49, in wrapper\n",
      "    result = transform(self, stim, *args, **kwargs)\n",
      "  File \"C:\\Users\\aid338\\AppData\\Roaming\\Python\\Python35\\site-packages\\pliers\\transformers.py\", line 87, in transform\n",
      "    result = self._transform(validated_stim, *args, **kwargs)\n",
      "  File \"C:\\Users\\aid338\\AppData\\Roaming\\Python\\Python35\\site-packages\\pliers\\converters\\base.py\", line 25, in _transform\n",
      "    return self._convert(stim, *args, **kwargs)\n",
      "  File \"C:\\Users\\aid338\\AppData\\Roaming\\Python\\Python35\\site-packages\\pliers\\converters\\api.py\", line 93, in _convert\n",
      "    result = self._query_api(clip)\n",
      "  File \"C:\\Users\\aid338\\AppData\\Roaming\\Python\\Python35\\site-packages\\pliers\\converters\\api.py\", line 129, in _query_api\n",
      "    raise Exception(\"recognition request failed: {0}\".format(getattr(e, \"reason\", \"status {0}\".format(e.code))))\n",
      "Exception: recognition request failed: Bad Request\n",
      "\n",
      "scratch\\7T_MOVIE4_HO2_v2_1.wav segment 0\n",
      "Transforming...\n",
      "scratch\\7T_MOVIE4_HO2_v2_2.wav segment 1\n",
      "Transforming...\n",
      "scratch\\7T_MOVIE4_HO2_v2_3.wav segment 2\n",
      "Transforming...\n"
     ]
    }
   ],
   "source": [
    "# Convert to ComplexTextStim and update durations\n",
    "texts = []\n",
    "conv = IBMSpeechAPIConverter()\n",
    "for i, f in enumerate(glob('scratch/*.wav')):\n",
    "    seg_num = int(f[-5])-1\n",
    "    print(f, \"segment %d\" % seg_num)\n",
    "    audio = AudioStim(f)\n",
    "    print(\"Transforming...\")\n",
    "    try:\n",
    "        cts = conv.transform(audio)\n",
    "        inc = seg_num*300\n",
    "        for t in cts:\n",
    "            t.onset += inc\n",
    "        texts.append(cts)\n",
    "    except:\n",
    "        print(format_exc())\n"
   ]
  },
  {
   "cell_type": "code",
   "execution_count": 5,
   "metadata": {
    "collapsed": false
   },
   "outputs": [
    {
     "name": "stdout",
     "output_type": "stream",
     "text": [
      "scratch\u0007T_MOVIE1_CC1_v2_1.wav segment 0\n"
     ]
    },
    {
     "ename": "OSError",
     "evalue": "MoviePy error: failed to read the duration of file scratch\u0007T_MOVIE1_CC1_v2_1.wav.\nHere are the file infos returned by ffmpeg:\n\nffmpeg version N-67100-g6dc99fd Copyright (c) 2000-2014 the FFmpeg developers\r\n  built on Oct 22 2014 22:01:57 with gcc 4.9.1 (GCC)\r\n  configuration: --enable-gpl --enable-version3 --disable-w32threads --enable-avisynth --enable-bzlib --enable-fontconfig --enable-frei0r --enable-gnutls --enable-iconv --enable-libass --enable-libbluray --enable-libbs2b --enable-libcaca --enable-libfreetype --enable-libgme --enable-libgsm --enable-libilbc --enable-libmodplug --enable-libmp3lame --enable-libopencore-amrnb --enable-libopencore-amrwb --enable-libopenjpeg --enable-libopus --enable-librtmp --enable-libschroedinger --enable-libsoxr --enable-libspeex --enable-libtheora --enable-libtwolame --enable-libvidstab --enable-libvo-aacenc --enable-libvo-amrwbenc --enable-libvorbis --enable-libvpx --enable-libwavpack --enable-libwebp --enable-libx264 --enable-libx265 --enable-libxavs --enable-libxvid --enable-zlib\r\n  libavutil      54. 10.100 / 54. 10.100\r\n  libavcodec     56.  9.100 / 56.  9.100\r\n  libavformat    56. 10.100 / 56. 10.100\r\n  libavdevice    56.  1.100 / 56.  1.100\r\n  libavfilter     5.  2.100 /  5.  2.100\r\n  libswscale      3.  1.101 /  3.  1.101\r\n  libswresample   1.  1.100 /  1.  1.100\r\n  libpostproc    53.  3.100 / 53.  3.100\r\nscratch?T_MOVIE1_CC1_v2_1.wav: Invalid argument\r\n",
     "output_type": "error",
     "traceback": [
      "\u001b[0;31m---------------------------------------------------------------------------\u001b[0m",
      "\u001b[0;31mIndexError\u001b[0m                                Traceback (most recent call last)",
      "\u001b[0;32mC:\\Users\\aid338\\AppData\\Roaming\\Python\\Python35\\site-packages\\moviepy-0.2.2.11-py3.5.egg\\moviepy\\video\\io\\ffmpeg_reader.py\u001b[0m in \u001b[0;36mffmpeg_parse_infos\u001b[0;34m(filename, print_infos, check_duration)\u001b[0m\n\u001b[1;32m    263\u001b[0m             \u001b[0mkeyword\u001b[0m \u001b[1;33m=\u001b[0m \u001b[1;33m(\u001b[0m\u001b[1;34m'frame='\u001b[0m \u001b[1;32mif\u001b[0m \u001b[0mis_GIF\u001b[0m \u001b[1;32melse\u001b[0m \u001b[1;34m'Duration: '\u001b[0m\u001b[1;33m)\u001b[0m\u001b[1;33m\u001b[0m\u001b[0m\n\u001b[0;32m--> 264\u001b[0;31m             \u001b[0mline\u001b[0m \u001b[1;33m=\u001b[0m \u001b[1;33m[\u001b[0m\u001b[0ml\u001b[0m \u001b[1;32mfor\u001b[0m \u001b[0ml\u001b[0m \u001b[1;32min\u001b[0m \u001b[0mlines\u001b[0m \u001b[1;32mif\u001b[0m \u001b[0mkeyword\u001b[0m \u001b[1;32min\u001b[0m \u001b[0ml\u001b[0m\u001b[1;33m]\u001b[0m\u001b[1;33m[\u001b[0m\u001b[1;36m0\u001b[0m\u001b[1;33m]\u001b[0m\u001b[1;33m\u001b[0m\u001b[0m\n\u001b[0m\u001b[1;32m    265\u001b[0m             \u001b[0mmatch\u001b[0m \u001b[1;33m=\u001b[0m \u001b[0mre\u001b[0m\u001b[1;33m.\u001b[0m\u001b[0mfindall\u001b[0m\u001b[1;33m(\u001b[0m\u001b[1;34m\"([0-9][0-9]:[0-9][0-9]:[0-9][0-9].[0-9][0-9])\"\u001b[0m\u001b[1;33m,\u001b[0m \u001b[0mline\u001b[0m\u001b[1;33m)\u001b[0m\u001b[1;33m[\u001b[0m\u001b[1;36m0\u001b[0m\u001b[1;33m]\u001b[0m\u001b[1;33m\u001b[0m\u001b[0m\n",
      "\u001b[0;31mIndexError\u001b[0m: list index out of range",
      "\nDuring handling of the above exception, another exception occurred:\n",
      "\u001b[0;31mOSError\u001b[0m                                   Traceback (most recent call last)",
      "\u001b[0;32m<ipython-input-5-e4cc0ddc7c25>\u001b[0m in \u001b[0;36m<module>\u001b[0;34m()\u001b[0m\n\u001b[1;32m      3\u001b[0m \u001b[0mseg_num\u001b[0m \u001b[1;33m=\u001b[0m \u001b[0mint\u001b[0m\u001b[1;33m(\u001b[0m\u001b[0mf\u001b[0m\u001b[1;33m[\u001b[0m\u001b[1;33m-\u001b[0m\u001b[1;36m5\u001b[0m\u001b[1;33m]\u001b[0m\u001b[1;33m)\u001b[0m\u001b[1;33m-\u001b[0m\u001b[1;36m1\u001b[0m\u001b[1;33m\u001b[0m\u001b[0m\n\u001b[1;32m      4\u001b[0m \u001b[0mprint\u001b[0m\u001b[1;33m(\u001b[0m\u001b[0mf\u001b[0m\u001b[1;33m,\u001b[0m \u001b[1;34m\"segment %d\"\u001b[0m \u001b[1;33m%\u001b[0m \u001b[0mseg_num\u001b[0m\u001b[1;33m)\u001b[0m\u001b[1;33m\u001b[0m\u001b[0m\n\u001b[0;32m----> 5\u001b[0;31m \u001b[0maudio\u001b[0m \u001b[1;33m=\u001b[0m \u001b[0mAudioStim\u001b[0m\u001b[1;33m(\u001b[0m\u001b[0mf\u001b[0m\u001b[1;33m)\u001b[0m\u001b[1;33m\u001b[0m\u001b[0m\n\u001b[0m\u001b[1;32m      6\u001b[0m \u001b[0mprint\u001b[0m\u001b[1;33m(\u001b[0m\u001b[1;34m\"Transforming...\"\u001b[0m\u001b[1;33m)\u001b[0m\u001b[1;33m\u001b[0m\u001b[0m\n\u001b[1;32m      7\u001b[0m \u001b[1;32mtry\u001b[0m\u001b[1;33m:\u001b[0m\u001b[1;33m\u001b[0m\u001b[0m\n",
      "\u001b[0;32mC:\\Users\\aid338\\AppData\\Roaming\\Python\\Python35\\site-packages\\pliers\\stimuli\\audio.py\u001b[0m in \u001b[0;36m__init__\u001b[0;34m(self, filename, onset, sampling_rate)\u001b[0m\n\u001b[1;32m     13\u001b[0m         \u001b[0mself\u001b[0m\u001b[1;33m.\u001b[0m\u001b[0msampling_rate\u001b[0m \u001b[1;33m=\u001b[0m \u001b[0msampling_rate\u001b[0m\u001b[1;33m\u001b[0m\u001b[0m\n\u001b[1;32m     14\u001b[0m \u001b[1;33m\u001b[0m\u001b[0m\n\u001b[0;32m---> 15\u001b[0;31m         \u001b[0mself\u001b[0m\u001b[1;33m.\u001b[0m\u001b[0m_load_clip\u001b[0m\u001b[1;33m(\u001b[0m\u001b[1;33m)\u001b[0m\u001b[1;33m\u001b[0m\u001b[0m\n\u001b[0m\u001b[1;32m     16\u001b[0m \u001b[1;33m\u001b[0m\u001b[0m\n\u001b[1;32m     17\u001b[0m         \u001b[1;31m# Small default buffer isn't ideal, but moviepy has persistent issues\u001b[0m\u001b[1;33m\u001b[0m\u001b[1;33m\u001b[0m\u001b[0m\n",
      "\u001b[0;32mC:\\Users\\aid338\\AppData\\Roaming\\Python\\Python35\\site-packages\\pliers\\stimuli\\audio.py\u001b[0m in \u001b[0;36m_load_clip\u001b[0;34m(self)\u001b[0m\n\u001b[1;32m     27\u001b[0m \u001b[1;33m\u001b[0m\u001b[0m\n\u001b[1;32m     28\u001b[0m     \u001b[1;32mdef\u001b[0m \u001b[0m_load_clip\u001b[0m\u001b[1;33m(\u001b[0m\u001b[0mself\u001b[0m\u001b[1;33m)\u001b[0m\u001b[1;33m:\u001b[0m\u001b[1;33m\u001b[0m\u001b[0m\n\u001b[0;32m---> 29\u001b[0;31m         \u001b[0mself\u001b[0m\u001b[1;33m.\u001b[0m\u001b[0mclip\u001b[0m \u001b[1;33m=\u001b[0m \u001b[0mAudioFileClip\u001b[0m\u001b[1;33m(\u001b[0m\u001b[0mself\u001b[0m\u001b[1;33m.\u001b[0m\u001b[0mfilename\u001b[0m\u001b[1;33m,\u001b[0m \u001b[0mfps\u001b[0m\u001b[1;33m=\u001b[0m\u001b[0mself\u001b[0m\u001b[1;33m.\u001b[0m\u001b[0msampling_rate\u001b[0m\u001b[1;33m)\u001b[0m\u001b[1;33m\u001b[0m\u001b[0m\n\u001b[0m\u001b[1;32m     30\u001b[0m \u001b[1;33m\u001b[0m\u001b[0m\n\u001b[1;32m     31\u001b[0m     \u001b[1;32mdef\u001b[0m \u001b[0m__getstate__\u001b[0m\u001b[1;33m(\u001b[0m\u001b[0mself\u001b[0m\u001b[1;33m)\u001b[0m\u001b[1;33m:\u001b[0m\u001b[1;33m\u001b[0m\u001b[0m\n",
      "\u001b[0;32mC:\\Users\\aid338\\AppData\\Roaming\\Python\\Python35\\site-packages\\moviepy-0.2.2.11-py3.5.egg\\moviepy\\audio\\io\\AudioFileClip.py\u001b[0m in \u001b[0;36m__init__\u001b[0;34m(self, filename, buffersize, nbytes, fps)\u001b[0m\n\u001b[1;32m     61\u001b[0m         \u001b[0mself\u001b[0m\u001b[1;33m.\u001b[0m\u001b[0mfilename\u001b[0m \u001b[1;33m=\u001b[0m \u001b[0mfilename\u001b[0m\u001b[1;33m\u001b[0m\u001b[0m\n\u001b[1;32m     62\u001b[0m         reader = FFMPEG_AudioReader(filename,fps=fps,nbytes=nbytes,\n\u001b[0;32m---> 63\u001b[0;31m                                          buffersize=buffersize)\n\u001b[0m\u001b[1;32m     64\u001b[0m \u001b[1;33m\u001b[0m\u001b[0m\n\u001b[1;32m     65\u001b[0m         \u001b[0mself\u001b[0m\u001b[1;33m.\u001b[0m\u001b[0mreader\u001b[0m \u001b[1;33m=\u001b[0m \u001b[0mreader\u001b[0m\u001b[1;33m\u001b[0m\u001b[0m\n",
      "\u001b[0;32mC:\\Users\\aid338\\AppData\\Roaming\\Python\\Python35\\site-packages\\moviepy-0.2.2.11-py3.5.egg\\moviepy\\audio\\io\\readers.py\u001b[0m in \u001b[0;36m__init__\u001b[0;34m(self, filename, buffersize, print_infos, fps, nbytes, nchannels)\u001b[0m\n\u001b[1;32m     54\u001b[0m         \u001b[0mself\u001b[0m\u001b[1;33m.\u001b[0m\u001b[0macodec\u001b[0m \u001b[1;33m=\u001b[0m \u001b[1;34m'pcm_s%dle'\u001b[0m\u001b[1;33m%\u001b[0m\u001b[1;33m(\u001b[0m\u001b[1;36m8\u001b[0m\u001b[1;33m*\u001b[0m\u001b[0mnbytes\u001b[0m\u001b[1;33m)\u001b[0m\u001b[1;33m\u001b[0m\u001b[0m\n\u001b[1;32m     55\u001b[0m         \u001b[0mself\u001b[0m\u001b[1;33m.\u001b[0m\u001b[0mnchannels\u001b[0m \u001b[1;33m=\u001b[0m \u001b[0mnchannels\u001b[0m\u001b[1;33m\u001b[0m\u001b[0m\n\u001b[0;32m---> 56\u001b[0;31m         \u001b[0minfos\u001b[0m \u001b[1;33m=\u001b[0m \u001b[0mffmpeg_parse_infos\u001b[0m\u001b[1;33m(\u001b[0m\u001b[0mfilename\u001b[0m\u001b[1;33m)\u001b[0m\u001b[1;33m\u001b[0m\u001b[0m\n\u001b[0m\u001b[1;32m     57\u001b[0m         \u001b[0mself\u001b[0m\u001b[1;33m.\u001b[0m\u001b[0mduration\u001b[0m \u001b[1;33m=\u001b[0m \u001b[0minfos\u001b[0m\u001b[1;33m[\u001b[0m\u001b[1;34m'duration'\u001b[0m\u001b[1;33m]\u001b[0m\u001b[1;33m\u001b[0m\u001b[0m\n\u001b[1;32m     58\u001b[0m         \u001b[1;32mif\u001b[0m \u001b[1;34m'video_duration'\u001b[0m \u001b[1;32min\u001b[0m \u001b[0minfos\u001b[0m\u001b[1;33m:\u001b[0m\u001b[1;33m\u001b[0m\u001b[0m\n",
      "\u001b[0;32mC:\\Users\\aid338\\AppData\\Roaming\\Python\\Python35\\site-packages\\moviepy-0.2.2.11-py3.5.egg\\moviepy\\video\\io\\ffmpeg_reader.py\u001b[0m in \u001b[0;36mffmpeg_parse_infos\u001b[0;34m(filename, print_infos, check_duration)\u001b[0m\n\u001b[1;32m    268\u001b[0m             raise IOError((\"MoviePy error: failed to read the duration of file %s.\\n\"\n\u001b[1;32m    269\u001b[0m                            \u001b[1;34m\"Here are the file infos returned by ffmpeg:\\n\\n%s\"\u001b[0m\u001b[1;33m)\u001b[0m\u001b[1;33m%\u001b[0m\u001b[1;33m(\u001b[0m\u001b[1;33m\u001b[0m\u001b[0m\n\u001b[0;32m--> 270\u001b[0;31m                               filename, infos))\n\u001b[0m\u001b[1;32m    271\u001b[0m \u001b[1;33m\u001b[0m\u001b[0m\n\u001b[1;32m    272\u001b[0m     \u001b[1;31m# get the output line that speaks about video\u001b[0m\u001b[1;33m\u001b[0m\u001b[1;33m\u001b[0m\u001b[0m\n",
      "\u001b[0;31mOSError\u001b[0m: MoviePy error: failed to read the duration of file scratch\u0007T_MOVIE1_CC1_v2_1.wav.\nHere are the file infos returned by ffmpeg:\n\nffmpeg version N-67100-g6dc99fd Copyright (c) 2000-2014 the FFmpeg developers\r\n  built on Oct 22 2014 22:01:57 with gcc 4.9.1 (GCC)\r\n  configuration: --enable-gpl --enable-version3 --disable-w32threads --enable-avisynth --enable-bzlib --enable-fontconfig --enable-frei0r --enable-gnutls --enable-iconv --enable-libass --enable-libbluray --enable-libbs2b --enable-libcaca --enable-libfreetype --enable-libgme --enable-libgsm --enable-libilbc --enable-libmodplug --enable-libmp3lame --enable-libopencore-amrnb --enable-libopencore-amrwb --enable-libopenjpeg --enable-libopus --enable-librtmp --enable-libschroedinger --enable-libsoxr --enable-libspeex --enable-libtheora --enable-libtwolame --enable-libvidstab --enable-libvo-aacenc --enable-libvo-amrwbenc --enable-libvorbis --enable-libvpx --enable-libwavpack --enable-libwebp --enable-libx264 --enable-libx265 --enable-libxavs --enable-libxvid --enable-zlib\r\n  libavutil      54. 10.100 / 54. 10.100\r\n  libavcodec     56.  9.100 / 56.  9.100\r\n  libavformat    56. 10.100 / 56. 10.100\r\n  libavdevice    56.  1.100 / 56.  1.100\r\n  libavfilter     5.  2.100 /  5.  2.100\r\n  libswscale      3.  1.101 /  3.  1.101\r\n  libswresample   1.  1.100 /  1.  1.100\r\n  libpostproc    53.  3.100 / 53.  3.100\r\nscratch?T_MOVIE1_CC1_v2_1.wav: Invalid argument\r\n"
     ]
    }
   ],
   "source": [
    "i = 0\n",
    "f = 'scratch\\7T_MOVIE1_CC1_v2_1.wav'\n",
    "seg_num = int(f[-5])-1\n",
    "print(f, \"segment %d\" % seg_num)\n",
    "audio = AudioStim(f)\n",
    "print(\"Transforming...\")\n",
    "try:\n",
    "    cts = conv.transform(audio)\n",
    "    inc = seg_num*300\n",
    "    for t in cts:\n",
    "        t.onset += inc\n",
    "    texts.append(cts)\n",
    "except:\n",
    "    print(format_exc())"
   ]
  },
  {
   "cell_type": "code",
   "execution_count": 6,
   "metadata": {
    "collapsed": false
   },
   "outputs": [
    {
     "name": "stdout",
     "output_type": "stream",
     "text": [
      "> c:\\users\\aid338\\appdata\\roaming\\python\\python35\\site-packages\\moviepy-0.2.2.11-py3.5.egg\\moviepy\\video\\io\\ffmpeg_reader.py(270)ffmpeg_parse_infos()\n",
      "    268             raise IOError((\"MoviePy error: failed to read the duration of file %s.\\n\"\n",
      "    269                            \"Here are the file infos returned by ffmpeg:\\n\\n%s\")%(\n",
      "--> 270                               filename, infos))\n",
      "    271 \n",
      "    272     # get the output line that speaks about video\n",
      "\n",
      "ipdb> exit\n"
     ]
    }
   ],
   "source": [
    "%debug"
   ]
  },
  {
   "cell_type": "code",
   "execution_count": 13,
   "metadata": {
    "collapsed": false
   },
   "outputs": [
    {
     "name": "stdout",
     "output_type": "stream",
     "text": [
      "Saving to scratch/7T_MOVIE1_CC1_v2_1.pkl.\n",
      "Saving to scratch/7T_MOVIE1_CC1_v2_2.pkl.\n",
      "Saving to scratch/7T_MOVIE1_CC1_v2_3.pkl.\n",
      "Saving to scratch/7T_MOVIE2_HO1_v2_1.pkl.\n",
      "Saving to scratch/7T_MOVIE2_HO1_v2_2.pkl.\n",
      "Saving to scratch/7T_MOVIE2_HO1_v2_3.pkl.\n",
      "Saving to scratch/7T_MOVIE3_CC2_v2_1.pkl.\n",
      "Saving to scratch/7T_MOVIE3_CC2_v2_2.pkl.\n",
      "Saving to scratch/7T_MOVIE3_CC2_v2_3.pkl.\n",
      "Saving to scratch/7T_MOVIE4_HO2_v2_1.pkl.\n",
      "Saving to scratch/7T_MOVIE4_HO2_v2_2.pkl.\n"
     ]
    },
    {
     "ename": "IndexError",
     "evalue": "list index out of range",
     "output_type": "error",
     "traceback": [
      "\u001b[0;31m---------------------------------------------------------------------------\u001b[0m",
      "\u001b[0;31mIndexError\u001b[0m                                Traceback (most recent call last)",
      "\u001b[0;32m<ipython-input-13-c3493c3d8a70>\u001b[0m in \u001b[0;36m<module>\u001b[0;34m()\u001b[0m\n\u001b[1;32m      3\u001b[0m     \u001b[0mname\u001b[0m \u001b[1;33m=\u001b[0m \u001b[1;34m'scratch/'\u001b[0m \u001b[1;33m+\u001b[0m \u001b[0mos\u001b[0m\u001b[1;33m.\u001b[0m\u001b[0mpath\u001b[0m\u001b[1;33m.\u001b[0m\u001b[0mbasename\u001b[0m\u001b[1;33m(\u001b[0m\u001b[0mf\u001b[0m\u001b[1;33m)\u001b[0m\u001b[1;33m.\u001b[0m\u001b[0msplit\u001b[0m\u001b[1;33m(\u001b[0m\u001b[1;34m'.'\u001b[0m\u001b[1;33m)\u001b[0m\u001b[1;33m[\u001b[0m\u001b[1;36m0\u001b[0m\u001b[1;33m]\u001b[0m \u001b[1;33m+\u001b[0m \u001b[1;34m'.pkl'\u001b[0m\u001b[1;33m\u001b[0m\u001b[0m\n\u001b[1;32m      4\u001b[0m     \u001b[0mprint\u001b[0m\u001b[1;33m(\u001b[0m\u001b[1;34m\"Saving to %s.\"\u001b[0m \u001b[1;33m%\u001b[0m \u001b[0mname\u001b[0m\u001b[1;33m)\u001b[0m\u001b[1;33m\u001b[0m\u001b[0m\n\u001b[0;32m----> 5\u001b[0;31m     \u001b[0mpickle\u001b[0m\u001b[1;33m.\u001b[0m\u001b[0mdump\u001b[0m\u001b[1;33m(\u001b[0m\u001b[0mtexts\u001b[0m\u001b[1;33m[\u001b[0m\u001b[0mi\u001b[0m\u001b[1;33m]\u001b[0m\u001b[1;33m,\u001b[0m \u001b[0mopen\u001b[0m\u001b[1;33m(\u001b[0m\u001b[0mname\u001b[0m\u001b[1;33m,\u001b[0m \u001b[1;34m'wb'\u001b[0m\u001b[1;33m)\u001b[0m\u001b[1;33m)\u001b[0m\u001b[1;33m\u001b[0m\u001b[0m\n\u001b[0m",
      "\u001b[0;31mIndexError\u001b[0m: list index out of range"
     ]
    }
   ],
   "source": [
    "# Pickle the ComplexTextStims for later use\n",
    "for i, f in enumerate(glob('scratch/*.wav')):\n",
    "    name = 'scratch/' + os.path.basename(f).split('.')[0] + '.pkl'\n",
    "    print(\"Saving to %s.\" % name)\n",
    "    pickle.dump(texts[i], open(name, 'wb'))"
   ]
  },
  {
   "cell_type": "code",
   "execution_count": 19,
   "metadata": {
    "collapsed": false
   },
   "outputs": [],
   "source": [
    "# Load from pickles\n",
    "ctstims = []\n",
    "for i, f in enumerate(glob('scratch/*.pkl')):\n",
    "    ctstims.append(pickle.load(open(f, 'rb')))"
   ]
  },
  {
   "cell_type": "markdown",
   "metadata": {},
   "source": [
    "## Feature extraction"
   ]
  },
  {
   "cell_type": "code",
   "execution_count": null,
   "metadata": {
    "collapsed": true
   },
   "outputs": [],
   "source": [
    "# Extract text features\n",
    "dict_ext = PredefinedDictionaryExtractor(['aoa/AoA_Kup_lem', 'SUBTLEXusfrequencyabove1/Lg10WF',\n",
    "                                          'concreteness/Conc.M', 'affect/V.Mean.Sum'])"
   ]
  },
  {
   "cell_type": "code",
   "execution_count": 20,
   "metadata": {
    "collapsed": false,
    "scrolled": true
   },
   "outputs": [
    {
     "name": "stderr",
     "output_type": "stream",
     "text": [
      "Stim: 0it [00:00, ?it/s]\n",
      "Stim: 0it [00:00, ?it/s]\n",
      "Stim: 10it [00:00, 384.15it/s]\n",
      "Stim: 0it [00:00, ?it/s]\n",
      "Stim: 4it [00:00, 1976.35it/s]\n",
      "Stim: 0it [00:00, ?it/s]\n",
      "Stim: 3it [00:00, 60.00it/s]\n",
      "Stim: 0it [00:00, ?it/s]\n",
      "Stim: 0it [00:00, ?it/s]\n",
      "Stim: 9it [00:00, 1790.57it/s]\n",
      "Stim: 0it [00:00, ?it/s]\n",
      "Stim: 9it [00:00, 1500.29it/s]\n",
      "Stim: 0it [00:00, ?it/s]\n",
      "Stim: 3it [00:00, 115.51it/s]\n",
      "Stim: 0it [00:00, ?it/s]\n",
      "Stim: 0it [00:00, ?it/s]\n",
      "Stim: 1it [00:00, 999.60it/s]\n",
      "Stim: 0it [00:00, ?it/s]\n",
      "Stim: 2it [00:00, 2001.58it/s]\n",
      "Stim: 0it [00:00, ?it/s]\n",
      "Stim: 3it [00:00, 200.36it/s]\n",
      "Stim: 0it [00:00, ?it/s]\n",
      "Stim: 0it [00:00, ?it/s]\n",
      "Stim: 1it [00:00, 111.11it/s]\n"
     ]
    }
   ],
   "source": [
    "\n",
    "dfs = []\n",
    "for start, end in [(0, 3), (3, 6), (6, 9), (9, 12)]:\n",
    "    text_features = dict_ext.transform(ctstims[start:end])\n",
    "    from itertools import chain\n",
    "    df = merge_results(chain(*text_features))\n",
    "    dfs.append(df)"
   ]
  },
  {
   "cell_type": "code",
   "execution_count": 4,
   "metadata": {
    "collapsed": false
   },
   "outputs": [],
   "source": [
    "for i, d in enumerate(dfs):\n",
    "    d.to_csv('text_features_video_%d.csv' % (i+1), index=False)"
   ]
  },
  {
   "cell_type": "markdown",
   "metadata": {},
   "source": [
    "### Equalizer results"
   ]
  },
  {
   "cell_type": "code",
   "execution_count": 10,
   "metadata": {
    "collapsed": false
   },
   "outputs": [
    {
     "name": "stdout",
     "output_type": "stream",
     "text": [
      "[MoviePy] Writing audio in D:neuroscout/datasets/hcp/movie_stimulus/Post_20140821_version\\7T_MOVIE1_CC1_v2.wav\n"
     ]
    },
    {
     "name": "stderr",
     "output_type": "stream",
     "text": [
      "100%|██████████████████████████████████████████████████████████████████████████| 20309/20309 [00:16<00:00, 1248.85it/s]\n"
     ]
    },
    {
     "name": "stdout",
     "output_type": "stream",
     "text": [
      "[MoviePy] Done.\n",
      "[MoviePy] Writing audio in D:neuroscout/datasets/hcp/movie_stimulus/Post_20140821_version\\7T_MOVIE2_HO1_v2.wav\n"
     ]
    },
    {
     "name": "stderr",
     "output_type": "stream",
     "text": [
      "100%|██████████████████████████████████████████████████████████████████████████| 20242/20242 [00:15<00:00, 1287.81it/s]\n"
     ]
    },
    {
     "name": "stdout",
     "output_type": "stream",
     "text": [
      "[MoviePy] Done.\n",
      "[MoviePy] Writing audio in D:neuroscout/datasets/hcp/movie_stimulus/Post_20140821_version\\7T_MOVIE3_CC2_v2.wav\n"
     ]
    },
    {
     "name": "stderr",
     "output_type": "stream",
     "text": [
      "100%|██████████████████████████████████████████████████████████████████████████| 20176/20176 [00:15<00:00, 1288.45it/s]\n"
     ]
    },
    {
     "name": "stdout",
     "output_type": "stream",
     "text": [
      "[MoviePy] Done.\n",
      "[MoviePy] Writing audio in D:neuroscout/datasets/hcp/movie_stimulus/Post_20140821_version\\7T_MOVIE4_HO2_v2.wav\n"
     ]
    },
    {
     "name": "stderr",
     "output_type": "stream",
     "text": [
      "100%|██████████████████████████████████████████████████████████████████████████| 19868/19868 [00:15<00:00, 1299.12it/s]\n"
     ]
    },
    {
     "name": "stdout",
     "output_type": "stream",
     "text": [
      "[MoviePy] Done.\n"
     ]
    }
   ],
   "source": [
    "# Equalizer\n",
    "freq_bins = [(16, 60), (60, 250), (250, 500), (500, 1000), (1000, 2000), (2000, 5000)]\n",
    "stft_ext = STFTAudioExtractor(frame_size=0.2, hop_size=0.05, freq_bins=freq_bins)\n",
    "for i, v in enumerate(glob(video_path)):\n",
    "    video = VideoStim(v)\n",
    "    df = stft_ext.transform(video).to_df()\n",
    "    df.to_csv('freq_spect_clip{}.csv'.format(i+1), index=False)"
   ]
  },
  {
   "cell_type": "code",
   "execution_count": null,
   "metadata": {
    "collapsed": true
   },
   "outputs": [],
   "source": []
  }
 ],
 "metadata": {
  "anaconda-cloud": {},
  "kernelspec": {
   "display_name": "Python [conda root]",
   "language": "python",
   "name": "conda-root-py"
  },
  "language_info": {
   "codemirror_mode": {
    "name": "ipython",
    "version": 3
   },
   "file_extension": ".py",
   "mimetype": "text/x-python",
   "name": "python",
   "nbconvert_exporter": "python",
   "pygments_lexer": "ipython3",
   "version": "3.5.2"
  }
 },
 "nbformat": 4,
 "nbformat_minor": 2
}
