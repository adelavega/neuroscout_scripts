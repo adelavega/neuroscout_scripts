{
 "cells": [
  {
   "cell_type": "code",
   "execution_count": 60,
   "metadata": {
    "collapsed": false
   },
   "outputs": [],
   "source": [
    "import pandas as pd\n",
    "from glob import glob\n",
    "import numpy as np\n",
    "%matplotlib inline\n",
    "import seaborn as sns\n",
    "import re"
   ]
  },
  {
   "cell_type": "code",
   "execution_count": 5,
   "metadata": {
    "collapsed": false
   },
   "outputs": [],
   "source": [
    "events = pd.read_table('D:/neuroscout/datasets/forrest/sub-01/ses-movie/func/sub-01_ses-movie_task-movie_run-1_events.tsv')"
   ]
  },
  {
   "cell_type": "code",
   "execution_count": 6,
   "metadata": {
    "collapsed": true
   },
   "outputs": [
    {
     "name": "stderr",
     "output_type": "stream",
     "text": [
      "C:\\Program Files\\Anaconda3\\lib\\site-packages\\IPython\\core\\interactiveshell.py:2821: DtypeWarning: Columns (272,273,292,293,398,399,401,402,403,422,423,528,529,531,532,533,552,553,658,659,661,662,663,682,683,788,789,791,792,793,812,813,918,919,921,922,923,942,943,1048,1049,1051) have mixed types. Specify dtype option on import or set low_memory=False.\n",
      "  if self.run_code(code, result):\n",
      "C:\\Program Files\\Anaconda3\\lib\\site-packages\\IPython\\core\\interactiveshell.py:2821: DtypeWarning: Columns (12,13,32,33,138,139,141,142,143,162,163,268,269,271,272,273,292,293,398,399,401,402,403,422,423,528,529,531,532,533,552,553,658,659,661,662,663,682,683,788,789,791,792,793,812,813,918,919,921,922,923,942,943,1048,1049,1051,1312,1313,1332,1333,1438,1439,1441,1442,1443,1462,1463,1568,1569,1571,1572,1573,1592,1593,1698,1699,1701,1702,1703,1722,1723,1828,1829,1831,1832,1833,1852,1853,1958,1959,1961,1962,1963,1982,1983,2088,2089,2091,2092,2093,2112,2113,2218,2219,2221) have mixed types. Specify dtype option on import or set low_memory=False.\n",
      "  if self.run_code(code, result):\n",
      "C:\\Program Files\\Anaconda3\\lib\\site-packages\\IPython\\core\\interactiveshell.py:2821: DtypeWarning: Columns (12,13,32,33,138,139,141,142,143,162,163,268,269,271,272,273,292,293,398,399,401,792,793,812,813,918,919,921,922,923,942,943,1048,1049,1051,1052,1053,1072,1073,1178,1179,1181,1182,1183,1202,1203,1308,1309,1311,1312,1313,1332,1333,1438,1439,1441,1442,1443,1462,1463,1568,1569,1571) have mixed types. Specify dtype option on import or set low_memory=False.\n",
      "  if self.run_code(code, result):\n",
      "C:\\Program Files\\Anaconda3\\lib\\site-packages\\IPython\\core\\interactiveshell.py:2821: DtypeWarning: Columns (272,273,292,293,398,399,401,402,403,422,423,528,529,531,532,533,552,553,658,659,661,662,663,682,683,788,789,791,792,793,812,813,918,919,921,922,923,942,943,1048,1049,1051,1052,1053,1072,1073,1178,1179,1181) have mixed types. Specify dtype option on import or set low_memory=False.\n",
      "  if self.run_code(code, result):\n",
      "C:\\Program Files\\Anaconda3\\lib\\site-packages\\IPython\\core\\interactiveshell.py:2821: DtypeWarning: Columns (272,273,292,293,398,399,401) have mixed types. Specify dtype option on import or set low_memory=False.\n",
      "  if self.run_code(code, result):\n"
     ]
    }
   ],
   "source": [
    "results = [pd.read_csv(f) for f in glob('forrest_extract_results/clip*')]"
   ]
  },
  {
   "cell_type": "code",
   "execution_count": 72,
   "metadata": {
    "collapsed": true
   },
   "outputs": [],
   "source": [
    "run = results[0]"
   ]
  },
  {
   "cell_type": "code",
   "execution_count": 50,
   "metadata": {
    "collapsed": true
   },
   "outputs": [],
   "source": [
    "movie_start = run.iloc[0].onset"
   ]
  },
  {
   "cell_type": "code",
   "execution_count": 11,
   "metadata": {
    "collapsed": false
   },
   "outputs": [],
   "source": [
    "confidence_cols = [c for c in run.columns if c.endswith('face_detectionConfidence')]"
   ]
  },
  {
   "cell_type": "code",
   "execution_count": 88,
   "metadata": {
    "collapsed": false
   },
   "outputs": [],
   "source": [
    "run['numFaces'] = (run.iloc[0][confidence_cols].isnull() == False).sum()"
   ]
  },
  {
   "cell_type": "code",
   "execution_count": 67,
   "metadata": {
    "collapsed": false
   },
   "outputs": [],
   "source": [
    "run['maxFace'] = run.apply(lambda x: x[confidence_cols].idxmax(), axis=1)"
   ]
  },
  {
   "cell_type": "code",
   "execution_count": 49,
   "metadata": {
    "collapsed": false
   },
   "outputs": [],
   "source": [
    "def polyArea(x,y):\n",
    "    return 0.5*np.abs(np.dot(x,np.roll(y,1))-np.dot(y,np.roll(x,1)))"
   ]
  },
  {
   "cell_type": "code",
   "execution_count": 76,
   "metadata": {
    "collapsed": false
   },
   "outputs": [],
   "source": [
    "def computeFaceArea(row):\n",
    "    maxcol = row['maxFace']\n",
    "    \n",
    "    if pd.notnull(maxcol):\n",
    "        prepend = re.sub('face_detectionConfidence', '', maxcol)\n",
    "        x = []\n",
    "        y = []\n",
    "        \n",
    "        for i in range(1, 5):\n",
    "            x.append(row[prepend + 'boundingPoly_vertex{}_x'.format(i)])\n",
    "            y.append(row[prepend + 'boundingPoly_vertex{}_y'.format(i)])\n",
    "            \n",
    "        val = polyArea(x, y)\n",
    "    else:\n",
    "        val = 0\n",
    "    return val"
   ]
  },
  {
   "cell_type": "code",
   "execution_count": 80,
   "metadata": {
    "collapsed": false
   },
   "outputs": [
    {
     "data": {
      "text/plain": [
       "111600.0"
      ]
     },
     "execution_count": 80,
     "metadata": {},
     "output_type": "execute_result"
    }
   ],
   "source": [
    "computeFaceArea(run.iloc[800])"
   ]
  },
  {
   "cell_type": "code",
   "execution_count": 26,
   "metadata": {
    "collapsed": true
   },
   "outputs": [],
   "source": [
    "def setmaxConfidence(row):\n",
    "    maxcol = row['maxFace']\n",
    "    if pd.notnull(maxcol):\n",
    "        val = row[maxcol]\n",
    "    else:\n",
    "        val = 0\n",
    "    return val"
   ]
  },
  {
   "cell_type": "code",
   "execution_count": 27,
   "metadata": {
    "collapsed": false
   },
   "outputs": [],
   "source": [
    "run['max_faceConfidence'] = run.apply(setmaxConfidence, axis=1)"
   ]
  },
  {
   "cell_type": "code",
   "execution_count": 55,
   "metadata": {
    "collapsed": false
   },
   "outputs": [],
   "source": [
    "run['onset'] = run['onset'] + movie_start\n",
    "run = run[['onset', 'duration', 'max_faceConfidence']]"
   ]
  },
  {
   "cell_type": "code",
   "execution_count": 66,
   "metadata": {
    "collapsed": true
   },
   "outputs": [
    {
     "ename": "KeyError",
     "evalue": "\"['random'] not in index\"",
     "output_type": "error",
     "traceback": [
      "\u001b[0;31m---------------------------------------------------------------------------\u001b[0m",
      "\u001b[0;31mKeyError\u001b[0m                                  Traceback (most recent call last)",
      "\u001b[0;32m<ipython-input-66-692d1ab2f291>\u001b[0m in \u001b[0;36m<module>\u001b[0;34m()\u001b[0m\n\u001b[0;32m----> 1\u001b[0;31m \u001b[0mrun\u001b[0m\u001b[1;33m[\u001b[0m\u001b[1;33m[\u001b[0m\u001b[1;34m'onset'\u001b[0m\u001b[1;33m,\u001b[0m \u001b[1;34m'duration'\u001b[0m\u001b[1;33m,\u001b[0m \u001b[1;34m'max_faceConfidence'\u001b[0m\u001b[1;33m,\u001b[0m \u001b[1;34m'random'\u001b[0m\u001b[1;33m]\u001b[0m\u001b[1;33m]\u001b[0m\u001b[1;33m\u001b[0m\u001b[0m\n\u001b[0m",
      "\u001b[0;32mC:\\Users\\aid338\\AppData\\Roaming\\Python\\Python35\\site-packages\\pandas\\core\\frame.py\u001b[0m in \u001b[0;36m__getitem__\u001b[0;34m(self, key)\u001b[0m\n\u001b[1;32m   2051\u001b[0m         \u001b[1;32mif\u001b[0m \u001b[0misinstance\u001b[0m\u001b[1;33m(\u001b[0m\u001b[0mkey\u001b[0m\u001b[1;33m,\u001b[0m \u001b[1;33m(\u001b[0m\u001b[0mSeries\u001b[0m\u001b[1;33m,\u001b[0m \u001b[0mnp\u001b[0m\u001b[1;33m.\u001b[0m\u001b[0mndarray\u001b[0m\u001b[1;33m,\u001b[0m \u001b[0mIndex\u001b[0m\u001b[1;33m,\u001b[0m \u001b[0mlist\u001b[0m\u001b[1;33m)\u001b[0m\u001b[1;33m)\u001b[0m\u001b[1;33m:\u001b[0m\u001b[1;33m\u001b[0m\u001b[0m\n\u001b[1;32m   2052\u001b[0m             \u001b[1;31m# either boolean or fancy integer index\u001b[0m\u001b[1;33m\u001b[0m\u001b[1;33m\u001b[0m\u001b[0m\n\u001b[0;32m-> 2053\u001b[0;31m             \u001b[1;32mreturn\u001b[0m \u001b[0mself\u001b[0m\u001b[1;33m.\u001b[0m\u001b[0m_getitem_array\u001b[0m\u001b[1;33m(\u001b[0m\u001b[0mkey\u001b[0m\u001b[1;33m)\u001b[0m\u001b[1;33m\u001b[0m\u001b[0m\n\u001b[0m\u001b[1;32m   2054\u001b[0m         \u001b[1;32melif\u001b[0m \u001b[0misinstance\u001b[0m\u001b[1;33m(\u001b[0m\u001b[0mkey\u001b[0m\u001b[1;33m,\u001b[0m \u001b[0mDataFrame\u001b[0m\u001b[1;33m)\u001b[0m\u001b[1;33m:\u001b[0m\u001b[1;33m\u001b[0m\u001b[0m\n\u001b[1;32m   2055\u001b[0m             \u001b[1;32mreturn\u001b[0m \u001b[0mself\u001b[0m\u001b[1;33m.\u001b[0m\u001b[0m_getitem_frame\u001b[0m\u001b[1;33m(\u001b[0m\u001b[0mkey\u001b[0m\u001b[1;33m)\u001b[0m\u001b[1;33m\u001b[0m\u001b[0m\n",
      "\u001b[0;32mC:\\Users\\aid338\\AppData\\Roaming\\Python\\Python35\\site-packages\\pandas\\core\\frame.py\u001b[0m in \u001b[0;36m_getitem_array\u001b[0;34m(self, key)\u001b[0m\n\u001b[1;32m   2095\u001b[0m             \u001b[1;32mreturn\u001b[0m \u001b[0mself\u001b[0m\u001b[1;33m.\u001b[0m\u001b[0mtake\u001b[0m\u001b[1;33m(\u001b[0m\u001b[0mindexer\u001b[0m\u001b[1;33m,\u001b[0m \u001b[0maxis\u001b[0m\u001b[1;33m=\u001b[0m\u001b[1;36m0\u001b[0m\u001b[1;33m,\u001b[0m \u001b[0mconvert\u001b[0m\u001b[1;33m=\u001b[0m\u001b[1;32mFalse\u001b[0m\u001b[1;33m)\u001b[0m\u001b[1;33m\u001b[0m\u001b[0m\n\u001b[1;32m   2096\u001b[0m         \u001b[1;32melse\u001b[0m\u001b[1;33m:\u001b[0m\u001b[1;33m\u001b[0m\u001b[0m\n\u001b[0;32m-> 2097\u001b[0;31m             \u001b[0mindexer\u001b[0m \u001b[1;33m=\u001b[0m \u001b[0mself\u001b[0m\u001b[1;33m.\u001b[0m\u001b[0mix\u001b[0m\u001b[1;33m.\u001b[0m\u001b[0m_convert_to_indexer\u001b[0m\u001b[1;33m(\u001b[0m\u001b[0mkey\u001b[0m\u001b[1;33m,\u001b[0m \u001b[0maxis\u001b[0m\u001b[1;33m=\u001b[0m\u001b[1;36m1\u001b[0m\u001b[1;33m)\u001b[0m\u001b[1;33m\u001b[0m\u001b[0m\n\u001b[0m\u001b[1;32m   2098\u001b[0m             \u001b[1;32mreturn\u001b[0m \u001b[0mself\u001b[0m\u001b[1;33m.\u001b[0m\u001b[0mtake\u001b[0m\u001b[1;33m(\u001b[0m\u001b[0mindexer\u001b[0m\u001b[1;33m,\u001b[0m \u001b[0maxis\u001b[0m\u001b[1;33m=\u001b[0m\u001b[1;36m1\u001b[0m\u001b[1;33m,\u001b[0m \u001b[0mconvert\u001b[0m\u001b[1;33m=\u001b[0m\u001b[1;32mTrue\u001b[0m\u001b[1;33m)\u001b[0m\u001b[1;33m\u001b[0m\u001b[0m\n\u001b[1;32m   2099\u001b[0m \u001b[1;33m\u001b[0m\u001b[0m\n",
      "\u001b[0;32mC:\\Users\\aid338\\AppData\\Roaming\\Python\\Python35\\site-packages\\pandas\\core\\indexing.py\u001b[0m in \u001b[0;36m_convert_to_indexer\u001b[0;34m(self, obj, axis, is_setter)\u001b[0m\n\u001b[1;32m   1228\u001b[0m                 \u001b[0mmask\u001b[0m \u001b[1;33m=\u001b[0m \u001b[0mcheck\u001b[0m \u001b[1;33m==\u001b[0m \u001b[1;33m-\u001b[0m\u001b[1;36m1\u001b[0m\u001b[1;33m\u001b[0m\u001b[0m\n\u001b[1;32m   1229\u001b[0m                 \u001b[1;32mif\u001b[0m \u001b[0mmask\u001b[0m\u001b[1;33m.\u001b[0m\u001b[0many\u001b[0m\u001b[1;33m(\u001b[0m\u001b[1;33m)\u001b[0m\u001b[1;33m:\u001b[0m\u001b[1;33m\u001b[0m\u001b[0m\n\u001b[0;32m-> 1230\u001b[0;31m                     \u001b[1;32mraise\u001b[0m \u001b[0mKeyError\u001b[0m\u001b[1;33m(\u001b[0m\u001b[1;34m'%s not in index'\u001b[0m \u001b[1;33m%\u001b[0m \u001b[0mobjarr\u001b[0m\u001b[1;33m[\u001b[0m\u001b[0mmask\u001b[0m\u001b[1;33m]\u001b[0m\u001b[1;33m)\u001b[0m\u001b[1;33m\u001b[0m\u001b[0m\n\u001b[0m\u001b[1;32m   1231\u001b[0m \u001b[1;33m\u001b[0m\u001b[0m\n\u001b[1;32m   1232\u001b[0m                 \u001b[1;32mreturn\u001b[0m \u001b[0m_values_from_object\u001b[0m\u001b[1;33m(\u001b[0m\u001b[0mindexer\u001b[0m\u001b[1;33m)\u001b[0m\u001b[1;33m\u001b[0m\u001b[0m\n",
      "\u001b[0;31mKeyError\u001b[0m: \"['random'] not in index\""
     ]
    }
   ],
   "source": [
    "run[['onset', 'duration', 'max_faceConfidence', 'random']]"
   ]
  },
  {
   "cell_type": "code",
   "execution_count": 62,
   "metadata": {
    "collapsed": false
   },
   "outputs": [
    {
     "data": {
      "text/html": [
       "<div>\n",
       "<table border=\"1\" class=\"dataframe\">\n",
       "  <thead>\n",
       "    <tr style=\"text-align: right;\">\n",
       "      <th></th>\n",
       "      <th>onset</th>\n",
       "      <th>duration</th>\n",
       "      <th>trial_type</th>\n",
       "      <th>amplitude</th>\n",
       "    </tr>\n",
       "  </thead>\n",
       "  <tbody>\n",
       "    <tr>\n",
       "      <th>0</th>\n",
       "      <td>0.00</td>\n",
       "      <td>0.48</td>\n",
       "      <td>max_faceConfidence</td>\n",
       "      <td>0.000000</td>\n",
       "    </tr>\n",
       "    <tr>\n",
       "      <th>1</th>\n",
       "      <td>0.48</td>\n",
       "      <td>0.48</td>\n",
       "      <td>max_faceConfidence</td>\n",
       "      <td>0.000000</td>\n",
       "    </tr>\n",
       "    <tr>\n",
       "      <th>2</th>\n",
       "      <td>0.96</td>\n",
       "      <td>0.48</td>\n",
       "      <td>max_faceConfidence</td>\n",
       "      <td>0.000000</td>\n",
       "    </tr>\n",
       "    <tr>\n",
       "      <th>3</th>\n",
       "      <td>1.44</td>\n",
       "      <td>0.48</td>\n",
       "      <td>max_faceConfidence</td>\n",
       "      <td>0.000000</td>\n",
       "    </tr>\n",
       "    <tr>\n",
       "      <th>4</th>\n",
       "      <td>1.92</td>\n",
       "      <td>0.48</td>\n",
       "      <td>max_faceConfidence</td>\n",
       "      <td>0.000000</td>\n",
       "    </tr>\n",
       "    <tr>\n",
       "      <th>5</th>\n",
       "      <td>2.40</td>\n",
       "      <td>0.48</td>\n",
       "      <td>max_faceConfidence</td>\n",
       "      <td>0.000000</td>\n",
       "    </tr>\n",
       "    <tr>\n",
       "      <th>6</th>\n",
       "      <td>2.88</td>\n",
       "      <td>0.48</td>\n",
       "      <td>max_faceConfidence</td>\n",
       "      <td>0.000000</td>\n",
       "    </tr>\n",
       "    <tr>\n",
       "      <th>7</th>\n",
       "      <td>3.36</td>\n",
       "      <td>0.48</td>\n",
       "      <td>max_faceConfidence</td>\n",
       "      <td>0.000000</td>\n",
       "    </tr>\n",
       "    <tr>\n",
       "      <th>8</th>\n",
       "      <td>3.84</td>\n",
       "      <td>0.48</td>\n",
       "      <td>max_faceConfidence</td>\n",
       "      <td>0.000000</td>\n",
       "    </tr>\n",
       "    <tr>\n",
       "      <th>9</th>\n",
       "      <td>4.32</td>\n",
       "      <td>0.48</td>\n",
       "      <td>max_faceConfidence</td>\n",
       "      <td>0.000000</td>\n",
       "    </tr>\n",
       "    <tr>\n",
       "      <th>10</th>\n",
       "      <td>4.80</td>\n",
       "      <td>0.48</td>\n",
       "      <td>max_faceConfidence</td>\n",
       "      <td>0.000000</td>\n",
       "    </tr>\n",
       "    <tr>\n",
       "      <th>11</th>\n",
       "      <td>5.28</td>\n",
       "      <td>0.48</td>\n",
       "      <td>max_faceConfidence</td>\n",
       "      <td>0.000000</td>\n",
       "    </tr>\n",
       "    <tr>\n",
       "      <th>12</th>\n",
       "      <td>5.76</td>\n",
       "      <td>0.48</td>\n",
       "      <td>max_faceConfidence</td>\n",
       "      <td>0.000000</td>\n",
       "    </tr>\n",
       "    <tr>\n",
       "      <th>13</th>\n",
       "      <td>6.24</td>\n",
       "      <td>0.48</td>\n",
       "      <td>max_faceConfidence</td>\n",
       "      <td>0.000000</td>\n",
       "    </tr>\n",
       "    <tr>\n",
       "      <th>14</th>\n",
       "      <td>6.72</td>\n",
       "      <td>0.48</td>\n",
       "      <td>max_faceConfidence</td>\n",
       "      <td>0.000000</td>\n",
       "    </tr>\n",
       "    <tr>\n",
       "      <th>15</th>\n",
       "      <td>7.20</td>\n",
       "      <td>0.48</td>\n",
       "      <td>max_faceConfidence</td>\n",
       "      <td>0.000000</td>\n",
       "    </tr>\n",
       "    <tr>\n",
       "      <th>16</th>\n",
       "      <td>7.68</td>\n",
       "      <td>0.48</td>\n",
       "      <td>max_faceConfidence</td>\n",
       "      <td>0.000000</td>\n",
       "    </tr>\n",
       "    <tr>\n",
       "      <th>17</th>\n",
       "      <td>8.16</td>\n",
       "      <td>0.48</td>\n",
       "      <td>max_faceConfidence</td>\n",
       "      <td>0.000000</td>\n",
       "    </tr>\n",
       "    <tr>\n",
       "      <th>18</th>\n",
       "      <td>8.64</td>\n",
       "      <td>0.48</td>\n",
       "      <td>max_faceConfidence</td>\n",
       "      <td>0.000000</td>\n",
       "    </tr>\n",
       "    <tr>\n",
       "      <th>19</th>\n",
       "      <td>9.12</td>\n",
       "      <td>0.48</td>\n",
       "      <td>max_faceConfidence</td>\n",
       "      <td>0.000000</td>\n",
       "    </tr>\n",
       "    <tr>\n",
       "      <th>20</th>\n",
       "      <td>9.60</td>\n",
       "      <td>0.48</td>\n",
       "      <td>max_faceConfidence</td>\n",
       "      <td>0.000000</td>\n",
       "    </tr>\n",
       "    <tr>\n",
       "      <th>21</th>\n",
       "      <td>10.08</td>\n",
       "      <td>0.48</td>\n",
       "      <td>max_faceConfidence</td>\n",
       "      <td>0.000000</td>\n",
       "    </tr>\n",
       "    <tr>\n",
       "      <th>22</th>\n",
       "      <td>10.56</td>\n",
       "      <td>0.48</td>\n",
       "      <td>max_faceConfidence</td>\n",
       "      <td>0.000000</td>\n",
       "    </tr>\n",
       "    <tr>\n",
       "      <th>23</th>\n",
       "      <td>11.04</td>\n",
       "      <td>0.48</td>\n",
       "      <td>max_faceConfidence</td>\n",
       "      <td>0.000000</td>\n",
       "    </tr>\n",
       "    <tr>\n",
       "      <th>24</th>\n",
       "      <td>11.52</td>\n",
       "      <td>0.48</td>\n",
       "      <td>max_faceConfidence</td>\n",
       "      <td>0.000000</td>\n",
       "    </tr>\n",
       "    <tr>\n",
       "      <th>25</th>\n",
       "      <td>12.00</td>\n",
       "      <td>0.48</td>\n",
       "      <td>max_faceConfidence</td>\n",
       "      <td>0.000000</td>\n",
       "    </tr>\n",
       "    <tr>\n",
       "      <th>26</th>\n",
       "      <td>12.48</td>\n",
       "      <td>0.48</td>\n",
       "      <td>max_faceConfidence</td>\n",
       "      <td>0.000000</td>\n",
       "    </tr>\n",
       "    <tr>\n",
       "      <th>27</th>\n",
       "      <td>12.96</td>\n",
       "      <td>0.48</td>\n",
       "      <td>max_faceConfidence</td>\n",
       "      <td>0.000000</td>\n",
       "    </tr>\n",
       "    <tr>\n",
       "      <th>28</th>\n",
       "      <td>13.44</td>\n",
       "      <td>0.48</td>\n",
       "      <td>max_faceConfidence</td>\n",
       "      <td>0.000000</td>\n",
       "    </tr>\n",
       "    <tr>\n",
       "      <th>29</th>\n",
       "      <td>13.92</td>\n",
       "      <td>0.48</td>\n",
       "      <td>max_faceConfidence</td>\n",
       "      <td>0.000000</td>\n",
       "    </tr>\n",
       "    <tr>\n",
       "      <th>...</th>\n",
       "      <td>...</td>\n",
       "      <td>...</td>\n",
       "      <td>...</td>\n",
       "      <td>...</td>\n",
       "    </tr>\n",
       "    <tr>\n",
       "      <th>1852</th>\n",
       "      <td>888.96</td>\n",
       "      <td>0.48</td>\n",
       "      <td>max_faceConfidence</td>\n",
       "      <td>1.000000</td>\n",
       "    </tr>\n",
       "    <tr>\n",
       "      <th>1853</th>\n",
       "      <td>889.44</td>\n",
       "      <td>0.48</td>\n",
       "      <td>max_faceConfidence</td>\n",
       "      <td>1.000000</td>\n",
       "    </tr>\n",
       "    <tr>\n",
       "      <th>1854</th>\n",
       "      <td>889.92</td>\n",
       "      <td>0.48</td>\n",
       "      <td>max_faceConfidence</td>\n",
       "      <td>1.000000</td>\n",
       "    </tr>\n",
       "    <tr>\n",
       "      <th>1855</th>\n",
       "      <td>890.40</td>\n",
       "      <td>0.48</td>\n",
       "      <td>max_faceConfidence</td>\n",
       "      <td>1.000000</td>\n",
       "    </tr>\n",
       "    <tr>\n",
       "      <th>1856</th>\n",
       "      <td>890.88</td>\n",
       "      <td>0.48</td>\n",
       "      <td>max_faceConfidence</td>\n",
       "      <td>1.000000</td>\n",
       "    </tr>\n",
       "    <tr>\n",
       "      <th>1857</th>\n",
       "      <td>891.36</td>\n",
       "      <td>0.48</td>\n",
       "      <td>max_faceConfidence</td>\n",
       "      <td>0.987239</td>\n",
       "    </tr>\n",
       "    <tr>\n",
       "      <th>1858</th>\n",
       "      <td>891.84</td>\n",
       "      <td>0.48</td>\n",
       "      <td>max_faceConfidence</td>\n",
       "      <td>0.987069</td>\n",
       "    </tr>\n",
       "    <tr>\n",
       "      <th>1859</th>\n",
       "      <td>892.32</td>\n",
       "      <td>0.48</td>\n",
       "      <td>max_faceConfidence</td>\n",
       "      <td>0.988111</td>\n",
       "    </tr>\n",
       "    <tr>\n",
       "      <th>1860</th>\n",
       "      <td>892.80</td>\n",
       "      <td>0.48</td>\n",
       "      <td>max_faceConfidence</td>\n",
       "      <td>0.986768</td>\n",
       "    </tr>\n",
       "    <tr>\n",
       "      <th>1861</th>\n",
       "      <td>893.28</td>\n",
       "      <td>0.48</td>\n",
       "      <td>max_faceConfidence</td>\n",
       "      <td>0.987106</td>\n",
       "    </tr>\n",
       "    <tr>\n",
       "      <th>1862</th>\n",
       "      <td>893.76</td>\n",
       "      <td>0.48</td>\n",
       "      <td>max_faceConfidence</td>\n",
       "      <td>0.987974</td>\n",
       "    </tr>\n",
       "    <tr>\n",
       "      <th>1863</th>\n",
       "      <td>894.24</td>\n",
       "      <td>0.48</td>\n",
       "      <td>max_faceConfidence</td>\n",
       "      <td>0.999624</td>\n",
       "    </tr>\n",
       "    <tr>\n",
       "      <th>1864</th>\n",
       "      <td>894.72</td>\n",
       "      <td>0.48</td>\n",
       "      <td>max_faceConfidence</td>\n",
       "      <td>0.995449</td>\n",
       "    </tr>\n",
       "    <tr>\n",
       "      <th>1865</th>\n",
       "      <td>895.20</td>\n",
       "      <td>0.48</td>\n",
       "      <td>max_faceConfidence</td>\n",
       "      <td>0.997773</td>\n",
       "    </tr>\n",
       "    <tr>\n",
       "      <th>1866</th>\n",
       "      <td>895.68</td>\n",
       "      <td>0.48</td>\n",
       "      <td>max_faceConfidence</td>\n",
       "      <td>0.996326</td>\n",
       "    </tr>\n",
       "    <tr>\n",
       "      <th>1867</th>\n",
       "      <td>896.16</td>\n",
       "      <td>0.48</td>\n",
       "      <td>max_faceConfidence</td>\n",
       "      <td>0.979373</td>\n",
       "    </tr>\n",
       "    <tr>\n",
       "      <th>1868</th>\n",
       "      <td>896.64</td>\n",
       "      <td>0.48</td>\n",
       "      <td>max_faceConfidence</td>\n",
       "      <td>0.985800</td>\n",
       "    </tr>\n",
       "    <tr>\n",
       "      <th>1869</th>\n",
       "      <td>897.12</td>\n",
       "      <td>0.48</td>\n",
       "      <td>max_faceConfidence</td>\n",
       "      <td>0.989563</td>\n",
       "    </tr>\n",
       "    <tr>\n",
       "      <th>1870</th>\n",
       "      <td>897.60</td>\n",
       "      <td>0.48</td>\n",
       "      <td>max_faceConfidence</td>\n",
       "      <td>0.999765</td>\n",
       "    </tr>\n",
       "    <tr>\n",
       "      <th>1871</th>\n",
       "      <td>898.08</td>\n",
       "      <td>0.48</td>\n",
       "      <td>max_faceConfidence</td>\n",
       "      <td>0.998934</td>\n",
       "    </tr>\n",
       "    <tr>\n",
       "      <th>1872</th>\n",
       "      <td>898.56</td>\n",
       "      <td>0.48</td>\n",
       "      <td>max_faceConfidence</td>\n",
       "      <td>0.995501</td>\n",
       "    </tr>\n",
       "    <tr>\n",
       "      <th>1873</th>\n",
       "      <td>899.04</td>\n",
       "      <td>0.48</td>\n",
       "      <td>max_faceConfidence</td>\n",
       "      <td>0.999019</td>\n",
       "    </tr>\n",
       "    <tr>\n",
       "      <th>1874</th>\n",
       "      <td>899.52</td>\n",
       "      <td>0.48</td>\n",
       "      <td>max_faceConfidence</td>\n",
       "      <td>0.995011</td>\n",
       "    </tr>\n",
       "    <tr>\n",
       "      <th>1875</th>\n",
       "      <td>900.00</td>\n",
       "      <td>0.48</td>\n",
       "      <td>max_faceConfidence</td>\n",
       "      <td>0.741465</td>\n",
       "    </tr>\n",
       "    <tr>\n",
       "      <th>1876</th>\n",
       "      <td>900.48</td>\n",
       "      <td>0.48</td>\n",
       "      <td>max_faceConfidence</td>\n",
       "      <td>0.736566</td>\n",
       "    </tr>\n",
       "    <tr>\n",
       "      <th>1877</th>\n",
       "      <td>900.96</td>\n",
       "      <td>0.48</td>\n",
       "      <td>max_faceConfidence</td>\n",
       "      <td>0.000000</td>\n",
       "    </tr>\n",
       "    <tr>\n",
       "      <th>1878</th>\n",
       "      <td>901.44</td>\n",
       "      <td>0.48</td>\n",
       "      <td>max_faceConfidence</td>\n",
       "      <td>0.000000</td>\n",
       "    </tr>\n",
       "    <tr>\n",
       "      <th>1879</th>\n",
       "      <td>901.92</td>\n",
       "      <td>0.48</td>\n",
       "      <td>max_faceConfidence</td>\n",
       "      <td>0.000000</td>\n",
       "    </tr>\n",
       "    <tr>\n",
       "      <th>1880</th>\n",
       "      <td>902.40</td>\n",
       "      <td>0.48</td>\n",
       "      <td>max_faceConfidence</td>\n",
       "      <td>0.000000</td>\n",
       "    </tr>\n",
       "    <tr>\n",
       "      <th>1881</th>\n",
       "      <td>902.88</td>\n",
       "      <td>0.20</td>\n",
       "      <td>max_faceConfidence</td>\n",
       "      <td>0.000000</td>\n",
       "    </tr>\n",
       "  </tbody>\n",
       "</table>\n",
       "<p>1882 rows × 4 columns</p>\n",
       "</div>"
      ],
      "text/plain": [
       "       onset  duration          trial_type  amplitude\n",
       "0       0.00      0.48  max_faceConfidence   0.000000\n",
       "1       0.48      0.48  max_faceConfidence   0.000000\n",
       "2       0.96      0.48  max_faceConfidence   0.000000\n",
       "3       1.44      0.48  max_faceConfidence   0.000000\n",
       "4       1.92      0.48  max_faceConfidence   0.000000\n",
       "5       2.40      0.48  max_faceConfidence   0.000000\n",
       "6       2.88      0.48  max_faceConfidence   0.000000\n",
       "7       3.36      0.48  max_faceConfidence   0.000000\n",
       "8       3.84      0.48  max_faceConfidence   0.000000\n",
       "9       4.32      0.48  max_faceConfidence   0.000000\n",
       "10      4.80      0.48  max_faceConfidence   0.000000\n",
       "11      5.28      0.48  max_faceConfidence   0.000000\n",
       "12      5.76      0.48  max_faceConfidence   0.000000\n",
       "13      6.24      0.48  max_faceConfidence   0.000000\n",
       "14      6.72      0.48  max_faceConfidence   0.000000\n",
       "15      7.20      0.48  max_faceConfidence   0.000000\n",
       "16      7.68      0.48  max_faceConfidence   0.000000\n",
       "17      8.16      0.48  max_faceConfidence   0.000000\n",
       "18      8.64      0.48  max_faceConfidence   0.000000\n",
       "19      9.12      0.48  max_faceConfidence   0.000000\n",
       "20      9.60      0.48  max_faceConfidence   0.000000\n",
       "21     10.08      0.48  max_faceConfidence   0.000000\n",
       "22     10.56      0.48  max_faceConfidence   0.000000\n",
       "23     11.04      0.48  max_faceConfidence   0.000000\n",
       "24     11.52      0.48  max_faceConfidence   0.000000\n",
       "25     12.00      0.48  max_faceConfidence   0.000000\n",
       "26     12.48      0.48  max_faceConfidence   0.000000\n",
       "27     12.96      0.48  max_faceConfidence   0.000000\n",
       "28     13.44      0.48  max_faceConfidence   0.000000\n",
       "29     13.92      0.48  max_faceConfidence   0.000000\n",
       "...      ...       ...                 ...        ...\n",
       "1852  888.96      0.48  max_faceConfidence   1.000000\n",
       "1853  889.44      0.48  max_faceConfidence   1.000000\n",
       "1854  889.92      0.48  max_faceConfidence   1.000000\n",
       "1855  890.40      0.48  max_faceConfidence   1.000000\n",
       "1856  890.88      0.48  max_faceConfidence   1.000000\n",
       "1857  891.36      0.48  max_faceConfidence   0.987239\n",
       "1858  891.84      0.48  max_faceConfidence   0.987069\n",
       "1859  892.32      0.48  max_faceConfidence   0.988111\n",
       "1860  892.80      0.48  max_faceConfidence   0.986768\n",
       "1861  893.28      0.48  max_faceConfidence   0.987106\n",
       "1862  893.76      0.48  max_faceConfidence   0.987974\n",
       "1863  894.24      0.48  max_faceConfidence   0.999624\n",
       "1864  894.72      0.48  max_faceConfidence   0.995449\n",
       "1865  895.20      0.48  max_faceConfidence   0.997773\n",
       "1866  895.68      0.48  max_faceConfidence   0.996326\n",
       "1867  896.16      0.48  max_faceConfidence   0.979373\n",
       "1868  896.64      0.48  max_faceConfidence   0.985800\n",
       "1869  897.12      0.48  max_faceConfidence   0.989563\n",
       "1870  897.60      0.48  max_faceConfidence   0.999765\n",
       "1871  898.08      0.48  max_faceConfidence   0.998934\n",
       "1872  898.56      0.48  max_faceConfidence   0.995501\n",
       "1873  899.04      0.48  max_faceConfidence   0.999019\n",
       "1874  899.52      0.48  max_faceConfidence   0.995011\n",
       "1875  900.00      0.48  max_faceConfidence   0.741465\n",
       "1876  900.48      0.48  max_faceConfidence   0.736566\n",
       "1877  900.96      0.48  max_faceConfidence   0.000000\n",
       "1878  901.44      0.48  max_faceConfidence   0.000000\n",
       "1879  901.92      0.48  max_faceConfidence   0.000000\n",
       "1880  902.40      0.48  max_faceConfidence   0.000000\n",
       "1881  902.88      0.20  max_faceConfidence   0.000000\n",
       "\n",
       "[1882 rows x 4 columns]"
      ]
     },
     "execution_count": 62,
     "metadata": {},
     "output_type": "execute_result"
    }
   ],
   "source": [
    "run = pd.melt(run, id_vars=['onset', 'duration'], value_name='amplitude', var_name='trial_type')"
   ]
  },
  {
   "cell_type": "code",
   "execution_count": 4,
   "metadata": {
    "collapsed": false
   },
   "outputs": [],
   "source": [
    "relevant_cols = ['angerLikelihood', 'blurredLikelihood','face_detectionConfidence',\n",
    "                'headwearLikelihood', 'joyLikelihood', 'sorrowLikelihood', 'surpriseLikelihood', \n",
    "                 'underExposedLikelihood']"
   ]
  },
  {
   "cell_type": "code",
   "execution_count": 39,
   "metadata": {
    "collapsed": false
   },
   "outputs": [],
   "source": [
    "results['max_face'] = results.apply(lambda row: row[confidence_cols].idxmax(), axis=1)"
   ]
  },
  {
   "cell_type": "markdown",
   "metadata": {},
   "source": [
    "Percentage of frames without a single face detected:"
   ]
  },
  {
   "cell_type": "code",
   "execution_count": null,
   "metadata": {
    "collapsed": false
   },
   "outputs": [],
   "source": [
    "results['max_face'].isnull().mean()"
   ]
  },
  {
   "cell_type": "code",
   "execution_count": 157,
   "metadata": {
    "collapsed": true
   },
   "outputs": [],
   "source": [
    "face_results = results[results['max_face'].isnull() == False]"
   ]
  },
  {
   "cell_type": "code",
   "execution_count": 158,
   "metadata": {
    "collapsed": false
   },
   "outputs": [],
   "source": [
    "face_results.max_face = face_results.max_face.apply(lambda x: x[:-24])"
   ]
  },
  {
   "cell_type": "code",
   "execution_count": 172,
   "metadata": {
    "collapsed": true
   },
   "outputs": [],
   "source": [
    "max_face_results = []\n",
    "for i, row in face_results.iterrows():\n",
    "    vals = row[[row.max_face +  c for c in relevant_cols]].sort_values().values\n",
    "    max_face_results.append(vals)"
   ]
  },
  {
   "cell_type": "code",
   "execution_count": 173,
   "metadata": {
    "collapsed": false
   },
   "outputs": [],
   "source": [
    "columns = row[[row.max_face +  c for c in relevant_cols]].sort_values().index.tolist()\n",
    "max_face_results = pd.DataFrame(max_face_results, columns=columns)"
   ]
  },
  {
   "cell_type": "code",
   "execution_count": 174,
   "metadata": {
    "collapsed": true
   },
   "outputs": [],
   "source": [
    "likelihood_map = dict(zip(max_face_results.angerLikelihood.unique()[0:], range(7)))"
   ]
  },
  {
   "cell_type": "code",
   "execution_count": 175,
   "metadata": {
    "collapsed": false
   },
   "outputs": [],
   "source": [
    "likelihood_map = {'LIKELY': 4,\n",
    " 'POSSIBLE': 2,\n",
    " 'UNLIKELY': 1,\n",
    " 'VERY_LIKELY': 4,\n",
    " 'VERY_UNLIKELY': 0}"
   ]
  },
  {
   "cell_type": "code",
   "execution_count": 176,
   "metadata": {
    "collapsed": false
   },
   "outputs": [],
   "source": [
    "for rn, row in max_face_results.iteritems():\n",
    "   if rn != 'face_detectionConfidence':\n",
    "    max_face_results[rn] = row.map(likelihood_map)"
   ]
  },
  {
   "cell_type": "code",
   "execution_count": 177,
   "metadata": {
    "collapsed": false
   },
   "outputs": [
    {
     "data": {
      "text/plain": [
       "face_detectionConfidence    0.872379\n",
       "joyLikelihood               1.357194\n",
       "angerLikelihood             0.258479\n",
       "blurredLikelihood           0.013924\n",
       "headwearLikelihood          0.000893\n",
       "sorrowLikelihood            0.000000\n",
       "surpriseLikelihood          0.000000\n",
       "underExposedLikelihood      0.000000\n",
       "dtype: float64"
      ]
     },
     "execution_count": 177,
     "metadata": {},
     "output_type": "execute_result"
    }
   ],
   "source": [
    "max_face_results.mean()"
   ]
  },
  {
   "cell_type": "code",
   "execution_count": 181,
   "metadata": {
    "collapsed": false
   },
   "outputs": [
    {
     "data": {
      "text/plain": [
       "<matplotlib.axes._subplots.AxesSubplot at 0x14fd89890>"
      ]
     },
     "execution_count": 181,
     "metadata": {},
     "output_type": "execute_result"
    },
    {
     "data": {
      "image/png": "[encoded data removed]",
      "text/plain": [
       "<matplotlib.figure.Figure at 0x14f84f850>"
      ]
     },
     "metadata": {},
     "output_type": "display_data"
    }
   ],
   "source": [
    "sns.distplot(max_face_results.angerLikelihood)"
   ]
  },
  {
   "cell_type": "code",
   "execution_count": 180,
   "metadata": {
    "collapsed": false
   },
   "outputs": [
    {
     "data": {
      "text/plain": [
       "<matplotlib.axes._subplots.AxesSubplot at 0x14f8ac210>"
      ]
     },
     "execution_count": 180,
     "metadata": {},
     "output_type": "execute_result"
    },
    {
     "data": {
      "image/png": "[encoded data removed]",
      "text/plain": [
       "<matplotlib.figure.Figure at 0x14f84fa10>"
      ]
     },
     "metadata": {},
     "output_type": "display_data"
    }
   ],
   "source": [
    "sns.distplot(max_face_results.joyLikelihood)"
   ]
  },
  {
   "cell_type": "code",
   "execution_count": 183,
   "metadata": {
    "collapsed": false
   },
   "outputs": [
    {
     "data": {
      "text/plain": [
       "<matplotlib.axes._subplots.AxesSubplot at 0x14fdadc10>"
      ]
     },
     "execution_count": 183,
     "metadata": {},
     "output_type": "execute_result"
    },
    {
     "data": {
      "image/png": "[encoded data removed]",
      "text/plain": [
       "<matplotlib.figure.Figure at 0x150299590>"
      ]
     },
     "metadata": {},
     "output_type": "display_data"
    }
   ],
   "source": [
    "sns.distplot(max_face_results.face_detectionConfidence)"
   ]
  },
  {
   "cell_type": "code",
   "execution_count": null,
   "metadata": {
    "collapsed": true
   },
   "outputs": [],
   "source": []
  }
 ],
 "metadata": {
  "anaconda-cloud": {},
  "kernelspec": {
   "display_name": "Python [conda root]",
   "language": "python",
   "name": "conda-root-py"
  },
  "language_info": {
   "codemirror_mode": {
    "name": "ipython",
    "version": 3
   },
   "file_extension": ".py",
   "mimetype": "text/x-python",
   "name": "python",
   "nbconvert_exporter": "python",
   "pygments_lexer": "ipython3",
   "version": "3.5.2"
  }
 },
 "nbformat": 4,
 "nbformat_minor": 1
}
